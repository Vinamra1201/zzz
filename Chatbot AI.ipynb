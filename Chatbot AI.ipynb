{
 "cells": [
  {
   "cell_type": "code",
   "execution_count": 4,
   "metadata": {},
   "outputs": [
    {
     "name": "stdout",
     "output_type": "stream",
     "text": [
      "Chatbot: Hi there! I am a simple chatbot. Type 'bye' to exit.\n",
      "Chatbot: Hello! How can I help you today?\n",
      "Chatbot: I'm a simple chatbot created by Vinamra.\n",
      "Chatbot: I'm just a bot, but I'm doing great! How about you?\n",
      "Chatbot: Goodbye! Have a great day!\n"
     ]
    }
   ],
   "source": [
    "def chatbot_response(user_input):\n",
    "    if \"hello\" in user_input.lower():\n",
    "        return \"Hello! How can I help you today?\"\n",
    "    elif \"how are you\" in user_input.lower():\n",
    "        return \"I'm just a bot, but I'm doing great! How about you?\"\n",
    "    elif \"bye\" in user_input.lower():\n",
    "        return \"Goodbye! Have a great day!\"\n",
    "    elif \"name\" in user_input.lower():\n",
    "        return \"I'm a simple chatbot created by Vinamra.\"\n",
    "    else:\n",
    "        return \"I'm sorry, I don't understand that. Can you please rephrase?\"\n",
    "\n",
    "def main():\n",
    "    print(\"Chatbot: Hi there! I am a simple chatbot. Type 'bye' to exit.\")\n",
    "    while True:\n",
    "        user_input = input(\"You: \")\n",
    "        if user_input.lower() == \"bye\":\n",
    "            print(\"Chatbot: Goodbye! Have a great day!\")\n",
    "            break\n",
    "        response = chatbot_response(user_input)\n",
    "        print(f\"Chatbot: {response}\")\n",
    "\n",
    "if __name__ == \"__main__\":\n",
    "    main()\n"
   ]
  }
 ],
 "metadata": {
  "kernelspec": {
   "display_name": "Python 3",
   "language": "python",
   "name": "python3"
  },
  "language_info": {
   "codemirror_mode": {
    "name": "ipython",
    "version": 3
   },
   "file_extension": ".py",
   "mimetype": "text/x-python",
   "name": "python",
   "nbconvert_exporter": "python",
   "pygments_lexer": "ipython3",
   "version": "3.11.0"
  }
 },
 "nbformat": 4,
 "nbformat_minor": 2
}
